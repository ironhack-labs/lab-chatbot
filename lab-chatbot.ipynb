{
 "cells": [
  {
   "cell_type": "markdown",
   "id": "a9183228-0ba6-4af9-8430-649e28868253",
   "metadata": {
    "id": "JMXGlIvAwn30"
   },
   "source": [
    "# **The Chat Format**\n",
    "\n",
    "In this notebook, you will explore how you can utilize the chat format to have extended conversations with chatbots personalized or specialized for specific tasks or behaviors.\n",
    "\n",
    "## Setup"
   ]
  },
  {
   "cell_type": "code",
   "execution_count": 1,
   "id": "7fa0d9b5",
   "metadata": {
    "tags": []
   },
   "outputs": [],
   "source": [
    "import openai\n",
    "import os\n",
    "\n",
    "from dotenv import load_dotenv, find_dotenv\n",
    "_ = load_dotenv(find_dotenv()) # read local .env file\n",
    "\n",
    "OPENAI_API_KEY  = os.getenv('OPENAI_API_KEY')"
   ]
  },
  {
   "cell_type": "code",
   "execution_count": 2,
   "id": "f5308d65",
   "metadata": {
    "tags": []
   },
   "outputs": [],
   "source": [
    "import openai\n",
    "\n",
    "openai.api_key = OPENAI_API_KEY\n",
    "\n",
    "def get_completion(prompt, model=\"gpt-3.5-turbo\", temperature=0): \n",
    "    messages = [{\"role\": \"user\", \"content\": prompt}]\n",
    "    response = openai.ChatCompletion.create(\n",
    "        model=model,\n",
    "        messages=messages,\n",
    "        temperature=temperature, \n",
    "    )\n",
    "    return response.choices[0].message.content\n",
    "\n",
    "def get_completion_from_messages(messages, model=\"gpt-3.5-turbo\", temperature=0): \n",
    "    response = openai.ChatCompletion.create(\n",
    "        model=model,\n",
    "        messages=messages,\n",
    "        temperature=temperature, \n",
    "    )\n",
    "    return response.choices[0].message.content"
   ]
  },
  {
   "cell_type": "code",
   "execution_count": 3,
   "id": "cee681b7",
   "metadata": {
    "tags": []
   },
   "outputs": [],
   "source": [
    "messages =  [  \n",
    "{'role':'system', 'content':'You are an assistant that speaks like Shakespeare.'},    \n",
    "{'role':'user', 'content':'tell me a joke'},   \n",
    "{'role':'assistant', 'content':'Why did the chicken cross the road'},   \n",
    "{'role':'user', 'content':'I don\\'t know'}  ]"
   ]
  },
  {
   "cell_type": "code",
   "execution_count": 4,
   "id": "da45ea0f",
   "metadata": {
    "tags": []
   },
   "outputs": [
    {
     "name": "stdout",
     "output_type": "stream",
     "text": [
      "To get to the other side, good sir! Verily, a classic jest amongst the poultry kind.\n"
     ]
    }
   ],
   "source": [
    "response = get_completion_from_messages(messages, temperature=1)\n",
    "print(response)"
   ]
  },
  {
   "cell_type": "code",
   "execution_count": 5,
   "id": "ca733f8f",
   "metadata": {
    "tags": []
   },
   "outputs": [
    {
     "name": "stdout",
     "output_type": "stream",
     "text": [
      "Hello Isa! It's nice to meet you. How are you doing today?\n"
     ]
    }
   ],
   "source": [
    "messages =  [  \n",
    "{'role':'system', 'content':'You are friendly chatbot.'},    \n",
    "{'role':'user', 'content':'Hi, my name is Isa'}  ]\n",
    "response = get_completion_from_messages(messages, temperature=1)\n",
    "print(response)"
   ]
  },
  {
   "cell_type": "code",
   "execution_count": 6,
   "id": "0ae595bc",
   "metadata": {
    "tags": []
   },
   "outputs": [
    {
     "name": "stdout",
     "output_type": "stream",
     "text": [
      "I'm sorry, but I don't have the capability to remember specific information about individual users. How can I assist you today?\n"
     ]
    }
   ],
   "source": [
    "messages =  [  \n",
    "{'role':'system', 'content':'You are friendly chatbot.'},    \n",
    "{'role':'user', 'content':'Yes,  can you remind me, What is my name?'}  ]\n",
    "response = get_completion_from_messages(messages, temperature=1)\n",
    "print(response)"
   ]
  },
  {
   "cell_type": "code",
   "execution_count": 6,
   "id": "56cbb817",
   "metadata": {
    "tags": []
   },
   "outputs": [
    {
     "name": "stdout",
     "output_type": "stream",
     "text": [
      "Your name is Isa.\n"
     ]
    }
   ],
   "source": [
    "messages =  [  \n",
    "{'role':'system', 'content':'You are friendly chatbot.'},\n",
    "{'role':'user', 'content':'Hi, my name is Isa'},\n",
    "{'role':'assistant', 'content': \"Hi Isa! It's nice to meet you. \\\n",
    "Is there anything I can help you with today?\"},\n",
    "{'role':'user', 'content':'Yes, you can remind me, What is my name?'}  ]\n",
    "response = get_completion_from_messages(messages, temperature=1)\n",
    "print(response)"
   ]
  },
  {
   "cell_type": "markdown",
   "id": "dedba66a-58b0-40d4-b9ae-47e79ae22328",
   "metadata": {
    "id": "bBg_MpXeYnTq"
   },
   "source": [
    "# OrderBot\n",
    "We can automate the collection of user prompts and assistant responses to build a  OrderBot. The OrderBot will take orders at a pizza restaurant. "
   ]
  },
  {
   "cell_type": "code",
   "execution_count": 7,
   "id": "e76749ac",
   "metadata": {
    "tags": []
   },
   "outputs": [],
   "source": [
    "def collect_messages(_):\n",
    "    prompt = inp.value_input\n",
    "    inp.value = ''\n",
    "    context.append({'role':'user', 'content':f\"{prompt}\"})\n",
    "    response = get_completion_from_messages(context) \n",
    "    context.append({'role':'assistant', 'content':f\"{response}\"})\n",
    "    panels.append(\n",
    "        pn.Row('User:', pn.pane.Markdown(prompt, width=600)))\n",
    "    panels.append(\n",
    "        pn.Row('Assistant:', pn.pane.Markdown(response, width=600, styles={'background-color': '#F6F6F6'})))\n",
    " \n",
    "    return pn.Column(*panels)\n"
   ]
  },
  {
   "cell_type": "code",
   "execution_count": 8,
   "id": "e62a87be",
   "metadata": {},
   "outputs": [
    {
     "data": {
      "application/vnd.jupyter.widget-view+json": {
       "model_id": "f495421da0884ec598fe98723b954200",
       "version_major": 2,
       "version_minor": 0
      },
      "text/plain": [
       "Text(value='', placeholder='Enter your message...')"
      ]
     },
     "metadata": {},
     "output_type": "display_data"
    },
    {
     "data": {
      "application/vnd.jupyter.widget-view+json": {
       "model_id": "1794a0ade09744aba932f8cc69312358",
       "version_major": 2,
       "version_minor": 0
      },
      "text/plain": [
       "Button(description='Send', style=ButtonStyle())"
      ]
     },
     "metadata": {},
     "output_type": "display_data"
    },
    {
     "data": {
      "application/vnd.jupyter.widget-view+json": {
       "model_id": "ca9c5ff7aa3a469f929f45ce82462f38",
       "version_major": 2,
       "version_minor": 0
      },
      "text/plain": [
       "Output()"
      ]
     },
     "metadata": {},
     "output_type": "display_data"
    }
   ],
   "source": [
    "import ipywidgets as widgets\n",
    "from IPython.display import display, clear_output\n",
    "import openai\n",
    "import os\n",
    "openai.api_key = os.environ[\"OPENAI_API_KEY\"]\n",
    "\n",
    "\n",
    "# Create widgets\n",
    "input_box = widgets.Text(placeholder='Enter your message...')\n",
    "send_button = widgets.Button(description='Send')\n",
    "output_area = widgets.Output()\n",
    "\n",
    "# Initialize conversation context\n",
    "context = [{'role': 'system', 'content': \"\"\"\n",
    "You are OrderBot, an automated service to collect orders for a pizza restaurant. \\\n",
    "You first greet the customer, then collect the order, \\\n",
    "and then ask if it's for pickup or delivery. \\\n",
    "You wait to collect the entire order, then summarize it and check for a final \\\n",
    "time if the customer wants to add anything else. \\\n",
    "If it's a delivery, you ask for an address. \\\n",
    "Finally, you collect the payment. \\\n",
    "Make sure to clarify all options, extras, and sizes to uniquely \\\n",
    "identify the item from the menu. \\\n",
    "The menu includes \\\n",
    "pepperoni pizza 12.95, 10.00, 7.00 \\\n",
    "cheese pizza 10.95, 9.25, 6.50 \\\n",
    "eggplant pizza 11.95, 9.75, 6.75 \\\n",
    "fries 4.50, 3.50 \\\n",
    "greek salad 7.25 \\\n",
    "Toppings: \\\n",
    "extra cheese 2.00 \\\n",
    "mushrooms 1.50 \\\n",
    "sausage 3.00 \\\n",
    "canadian bacon 3.50 \\\n",
    "AI sauce 1.50 \\\n",
    "peppers 1.00 \\\n",
    "Drinks: \\\n",
    "coke 3.00, 2.00, 1.00 \\\n",
    "sprite 3.00, 2.00, 1.00 \\\n",
    "bottled water 5.00 \\\n",
    "\"\"\"}]\n",
    "\n",
    "def on_button_click(b):\n",
    "    user_message = input_box.value\n",
    "    if user_message.strip():\n",
    "        context.append({'role': 'user', 'content': user_message})\n",
    "        \n",
    "        # Generate assistant's response\n",
    "        response = openai.ChatCompletion.create(\n",
    "            model='gpt-3.5-turbo',  # Use 'gpt-4' if you have access\n",
    "            messages=context\n",
    "        )\n",
    "        \n",
    "        assistant_message = response['choices'][0]['message']['content']\n",
    "        context.append({'role': 'assistant', 'content': assistant_message})\n",
    "        \n",
    "        # Display the conversation\n",
    "        with output_area:\n",
    "            clear_output(wait=True)\n",
    "            for message in context[1:]:  # Skip the system message\n",
    "                if message['role'] == 'user':\n",
    "                    print(f\"User: {message['content']}\")\n",
    "                elif message['role'] == 'assistant':\n",
    "                    print(f\"Assistant: {message['content']}\")\n",
    "    \n",
    "    input_box.value = ''  # Clear the input box\n",
    "\n",
    "# Link the button click event to the function\n",
    "send_button.on_click(on_button_click)\n",
    "\n",
    "# Display the widgets\n",
    "display(input_box, send_button, output_area)"
   ]
  },
  {
   "cell_type": "code",
   "execution_count": 44,
   "id": "a0ee11b9",
   "metadata": {},
   "outputs": [
    {
     "name": "stdout",
     "output_type": "stream",
     "text": [
      "```json\n",
      "{\n",
      "    \"pizza\": {\n",
      "        \"type\": \"pepperoni pizza\",\n",
      "        \"size\": \"large\"\n",
      "    },\n",
      "    \"toppings\": [\n",
      "        \"extra cheese\",\n",
      "        \"mushrooms\"\n",
      "    ],\n",
      "    \"drinks\": [\n",
      "        {\n",
      "            \"type\": \"coke\",\n",
      "            \"size\": \"medium\"\n",
      "        },\n",
      "        {\n",
      "            \"type\": \"sprite\",\n",
      "            \"size\": \"small\"\n",
      "        }\n",
      "    ],\n",
      "    \"sides\": [\n",
      "        {\n",
      "            \"type\": \"fries\",\n",
      "            \"size\": \"regular\"\n",
      "        }\n",
      "    ],\n",
      "    \"total price\": 27.45\n",
      "}\n",
      "```\n"
     ]
    }
   ],
   "source": [
    "messages =  context.copy()\n",
    "messages.append(\n",
    "{'role':'system', 'content':'create a json summary of the previous food order. Itemize the price for each item\\\n",
    " The fields should be 1) pizza, include size 2) list of toppings 3) list of drinks, include size   4) list of sides include size  5)total price '},    \n",
    ")\n",
    " #The fields should be 1) pizza, price 2) list of toppings 3) list of drinks, include size include price  4) list of sides include size include price, 5)total price '},    \n",
    "\n",
    "response = get_completion_from_messages(messages, temperature=0)\n",
    "print(response)"
   ]
  },
  {
   "cell_type": "markdown",
   "id": "3153c581-1c72-497a-9293-8db3bcb804fc",
   "metadata": {},
   "source": [
    "## Try experimenting on your own!\n",
    "\n",
    "You can modify the menu or instructions to create your own orderbot!"
   ]
  },
  {
   "cell_type": "markdown",
   "id": "7420ff21-68da-49ae-955f-49e8bffa769c",
   "metadata": {},
   "source": [
    "# Exercise\n",
    " - Complete the prompts similar to what we did in class. \n",
    "     - Try at least 3 versions\n",
    "     - Be creative\n",
    " - Write a one page report summarizing your findings.\n",
    "     - Were there variations that didn't work well? i.e., where GPT either hallucinated or wrong\n",
    " - What did you learn?"
   ]
  },
  {
   "cell_type": "code",
   "execution_count": 9,
   "id": "7aff0ebf-dda8-4b18-a704-393243a0a205",
   "metadata": {},
   "outputs": [
    {
     "data": {
      "application/vnd.jupyter.widget-view+json": {
       "model_id": "642d0939dcc24bd6a227827e6fda178c",
       "version_major": 2,
       "version_minor": 0
      },
      "text/plain": [
       "Text(value='', placeholder='Enter your message...')"
      ]
     },
     "metadata": {},
     "output_type": "display_data"
    },
    {
     "data": {
      "application/vnd.jupyter.widget-view+json": {
       "model_id": "2d88cca2a1b44f80a42016e45ff11b78",
       "version_major": 2,
       "version_minor": 0
      },
      "text/plain": [
       "Button(description='Send', style=ButtonStyle())"
      ]
     },
     "metadata": {},
     "output_type": "display_data"
    },
    {
     "data": {
      "application/vnd.jupyter.widget-view+json": {
       "model_id": "383c641258c5487d91cb9cb584c50650",
       "version_major": 2,
       "version_minor": 0
      },
      "text/plain": [
       "Output()"
      ]
     },
     "metadata": {},
     "output_type": "display_data"
    }
   ],
   "source": [
    "# VERSION 1 FURRY BALL BOT\n",
    "openai.api_key = os.environ[\"OPENAI_API_KEY\"]\n",
    "\n",
    "\n",
    "# Create widgets\n",
    "input_box = widgets.Text(placeholder='Enter your message...')\n",
    "send_button = widgets.Button(description='Send')\n",
    "output_area = widgets.Output()\n",
    "\n",
    "# Initialize conversation context\n",
    "context = [{'role': 'system', 'content': \"\"\"\n",
    "You are the furry ball bot, you are in charge of making appointments for pet owner that want to cut their pets hair \\\n",
    "You first greet the customer saying happy furry days, then you should ask when they want the bring their furry friend, \\\n",
    "and then ask whether if it a cat or a dog \\\n",
    "Then you should ask what kind of haircut they want for their pet \\\n",
    "time if the customer wants anything else.  \\\n",
    "Finally, you collect the payment. \\\n",
    "Make sure to clarify all options. \\\n",
    "identify the item from the menu. \\\n",
    "The menu includes \\\n",
    "only haircut, it will take 1 hour to complete \\\n",
    "haircut and shampooing, the service takes 1.5 hours\\\n",
    "complete service; haircut shampooing and perfume, this service will take 2 hours \\\n",
    "The price will depend on the size of the pet, how dirty the hair is and it ranges from 10$ to 30$ \\\n",
    "\"\"\"}]\n",
    "\n",
    "def on_button_click(b):\n",
    "    user_message = input_box.value\n",
    "    if user_message.strip():\n",
    "        context.append({'role': 'user', 'content': user_message})\n",
    "        \n",
    "        # Generate assistant's response\n",
    "        response = openai.ChatCompletion.create(\n",
    "            model='gpt-3.5-turbo',  # Use 'gpt-4' if you have access\n",
    "            messages=context\n",
    "        )\n",
    "        \n",
    "        assistant_message = response['choices'][0]['message']['content']\n",
    "        context.append({'role': 'assistant', 'content': assistant_message})\n",
    "        \n",
    "        # Display the conversation\n",
    "        with output_area:\n",
    "            clear_output(wait=True)\n",
    "            for message in context[1:]:  # Skip the system message\n",
    "                if message['role'] == 'user':\n",
    "                    print(f\"User: {message['content']}\")\n",
    "                elif message['role'] == 'assistant':\n",
    "                    print(f\"Assistant: {message['content']}\")\n",
    "    \n",
    "    input_box.value = ''  # Clear the input box\n",
    "\n",
    "# Link the button click event to the function\n",
    "send_button.on_click(on_button_click)\n",
    "\n",
    "# Display the widgets\n",
    "display(input_box, send_button, output_area)"
   ]
  },
  {
   "cell_type": "code",
   "execution_count": 10,
   "id": "233e929e",
   "metadata": {},
   "outputs": [
    {
     "data": {
      "application/vnd.jupyter.widget-view+json": {
       "model_id": "57c88c4142e54e2f93f708d1097fb6ae",
       "version_major": 2,
       "version_minor": 0
      },
      "text/plain": [
       "Text(value='', placeholder='Enter your message...')"
      ]
     },
     "metadata": {},
     "output_type": "display_data"
    },
    {
     "data": {
      "application/vnd.jupyter.widget-view+json": {
       "model_id": "3609f84ab3f9412ab76e02b26a34a40d",
       "version_major": 2,
       "version_minor": 0
      },
      "text/plain": [
       "Button(description='Send', style=ButtonStyle())"
      ]
     },
     "metadata": {},
     "output_type": "display_data"
    },
    {
     "data": {
      "application/vnd.jupyter.widget-view+json": {
       "model_id": "c1b13136eb8441d093b66682c9971f7f",
       "version_major": 2,
       "version_minor": 0
      },
      "text/plain": [
       "Output()"
      ]
     },
     "metadata": {},
     "output_type": "display_data"
    }
   ],
   "source": [
    "#VERSION 2 SUSHI BOT\n",
    "import ipywidgets as widgets\n",
    "from IPython.display import display, clear_output\n",
    "import openai\n",
    "import os\n",
    "openai.api_key = os.environ[\"OPENAI_API_KEY\"]\n",
    "\n",
    "\n",
    "# Create widgets\n",
    "input_box = widgets.Text(placeholder='Enter your message...')\n",
    "send_button = widgets.Button(description='Send')\n",
    "output_area = widgets.Output()\n",
    "\n",
    "# Initialize conversation context\n",
    "context = [{'role': 'system', 'content': \"\"\"\n",
    "You are sushi bot, an automated service to collect orders for a japanese restaurant. \\\n",
    "You first greet the customer, then collect the order, \\\n",
    "and then ask if it's for pickup, delivery or eat at teh restaurant. \\\n",
    "You wait to collect the entire order, then summarize it and check for a final \\\n",
    "time if the customer wants to add anything else. \\\n",
    "If it's a delivery, you ask for an address. \\\n",
    "Finally, you collect the payment. \\\n",
    "identify the item from the menu. \\\n",
    "The menu includes \\\n",
    "Tuna nigiri 2 units for 4.95, 4 units for 5.95, 6 units for 6.95 \\\n",
    "Salmon nigiri 2 units for 3.95, 4 units for 4.95, 6 units for 5.95\\\n",
    "fried shrimp temaki 9.95 \\\n",
    "dragon roll 8.95 \\\n",
    "california roll 8.95 \\\n",
    "sushi burrito 12.95 \\\n",
    "Drinks: \\\n",
    "coke 3.00, \\\n",
    "sprite 3.00, \\\n",
    "bottled water 1.50 \\\n",
    "\"\"\"}]\n",
    "\n",
    "def on_button_click(b):\n",
    "    user_message = input_box.value\n",
    "    if user_message.strip():\n",
    "        context.append({'role': 'user', 'content': user_message})\n",
    "        \n",
    "        # Generate assistant's response\n",
    "        response = openai.ChatCompletion.create(\n",
    "            model='gpt-3.5-turbo',  # Use 'gpt-4' if you have access\n",
    "            messages=context\n",
    "        )\n",
    "        \n",
    "        assistant_message = response['choices'][0]['message']['content']\n",
    "        context.append({'role': 'assistant', 'content': assistant_message})\n",
    "        \n",
    "        # Display the conversation\n",
    "        with output_area:\n",
    "            clear_output(wait=True)\n",
    "            for message in context[1:]:  # Skip the system message\n",
    "                if message['role'] == 'user':\n",
    "                    print(f\"User: {message['content']}\")\n",
    "                elif message['role'] == 'assistant':\n",
    "                    print(f\"Assistant: {message['content']}\")\n",
    "    \n",
    "    input_box.value = ''  # Clear the input box\n",
    "\n",
    "# Link the button click event to the function\n",
    "send_button.on_click(on_button_click)\n",
    "\n",
    "# Display the widgets\n",
    "display(input_box, send_button, output_area)"
   ]
  },
  {
   "cell_type": "code",
   "execution_count": 11,
   "id": "3fc5ed11",
   "metadata": {},
   "outputs": [
    {
     "data": {
      "application/vnd.jupyter.widget-view+json": {
       "model_id": "f28aa2b232bb4ab89fd6ad1b725e27ae",
       "version_major": 2,
       "version_minor": 0
      },
      "text/plain": [
       "Text(value='', placeholder='Enter your message...')"
      ]
     },
     "metadata": {},
     "output_type": "display_data"
    },
    {
     "data": {
      "application/vnd.jupyter.widget-view+json": {
       "model_id": "05dd61afaf32435da7a2d30756767118",
       "version_major": 2,
       "version_minor": 0
      },
      "text/plain": [
       "Button(description='Send', style=ButtonStyle())"
      ]
     },
     "metadata": {},
     "output_type": "display_data"
    },
    {
     "data": {
      "application/vnd.jupyter.widget-view+json": {
       "model_id": "6ed391380744441ba051b20a93c35fd3",
       "version_major": 2,
       "version_minor": 0
      },
      "text/plain": [
       "Output()"
      ]
     },
     "metadata": {},
     "output_type": "display_data"
    }
   ],
   "source": [
    "#VERSION 3 ADVENURE BOT\n",
    "import ipywidgets as widgets\n",
    "from IPython.display import display, clear_output\n",
    "import openai\n",
    "import os\n",
    "openai.api_key = os.environ[\"OPENAI_API_KEY\"]\n",
    "\n",
    "\n",
    "# Create widgets\n",
    "input_box = widgets.Text(placeholder='Enter your message...')\n",
    "send_button = widgets.Button(description='Send')\n",
    "output_area = widgets.Output()\n",
    "\n",
    "# Initialize conversation context\n",
    "context = [{'role': 'system', 'content': \"\"\"\n",
    "You are an adventure bot, you offer adventure holidays with a twist \\\n",
    "You first greet the customer, then ask what kind of holiday they want water or mountain \\\n",
    "Then you will ask how many people are they planning to go on holiday \\\n",
    "then ask when on what date they plan to go on holidays \\\n",
    "If customer chooses mountain there are several options. \\\n",
    "trekking holiday starting from 75 per person \\\n",
    "snow and skiing holiday starting from 150 per person \\\n",
    "relaxing SPA in the mountains starting from 300 per person \\\n",
    "If they choose water there are also several options. \\\n",
    "Beach and mojitos starting from 75 per person per day \\\n",
    "Beach lobster resort starting from 100 per person per day \\\n",
    "UV chamber and a shower starting from 5 per person \\\n",
    "Then deppending on how many people they ask for, they will calculate the total price with a discount if they are more than five.\\\n",
    "\"\"\"}]\n",
    "\n",
    "def on_button_click(b):\n",
    "    user_message = input_box.value\n",
    "    if user_message.strip():\n",
    "        context.append({'role': 'user', 'content': user_message})\n",
    "        \n",
    "        # Generate assistant's response\n",
    "        response = openai.ChatCompletion.create(\n",
    "            model='gpt-3.5-turbo',  # Use 'gpt-4' if you have access\n",
    "            messages=context\n",
    "        )\n",
    "        \n",
    "        assistant_message = response['choices'][0]['message']['content']\n",
    "        context.append({'role': 'assistant', 'content': assistant_message})\n",
    "        \n",
    "        # Display the conversation\n",
    "        with output_area:\n",
    "            clear_output(wait=True)\n",
    "            for message in context[1:]:  # Skip the system message\n",
    "                if message['role'] == 'user':\n",
    "                    print(f\"User: {message['content']}\")\n",
    "                elif message['role'] == 'assistant':\n",
    "                    print(f\"Assistant: {message['content']}\")\n",
    "    \n",
    "    input_box.value = ''  # Clear the input box\n",
    "\n",
    "# Link the button click event to the function\n",
    "send_button.on_click(on_button_click)\n",
    "\n",
    "# Display the widgets\n",
    "display(input_box, send_button, output_area)"
   ]
  },
  {
   "cell_type": "markdown",
   "id": "51c68f58",
   "metadata": {},
   "source": [
    "Report on Chatbot Performance and Findings\n",
    "\n",
    "1. Summary of Chatbot Interactions\n",
    "\n",
    "\t•\tFurry Ball Bot (Version 1):\n",
    "\t•\tInteraction: The bot responded promptly and politely, guiding the user through the steps of making an appointment for a pet grooming service.\n",
    "\t•\tStrengths: Clear and structured conversation flow, appropriate clarification of available services, and effective handling of user responses.\n",
    "\t•\tWeaknesses: Minor spelling error in the user’s input (“ppointment”) didn’t cause issues, but there’s room for improvement in handling \n",
    "    misspellings gracefully.\n",
    "\t•\tSushi Bot (Version 2):\n",
    "\t•\tInteraction: The bot efficiently guided the user through the ordering process, provided menu details, and managed the dining preference.\n",
    "\t•\tStrengths: Comprehensive response to inquiries about menu items and clear follow-up questions to confirm order details.\n",
    "\t•\tWeaknesses: There was confusion during the dine-in confirmation step, as the bot mistakenly asked for a delivery address even after the user \n",
    "    specified dining in.\n",
    "\t•\tAdventure Bot (Version 3):\n",
    "\t•\tInteraction: The bot handled the holiday booking process well, offering detailed options and providing a discount for a larger group.\n",
    "\t•\tStrengths: Good at presenting holiday package options, performing price calculations, and applying group discounts.\n",
    "\t•\tWeaknesses: Slight issues in natural language interpretation, such as repeating the need for contact details without a smooth transition, \n",
    "    could be improved.\n",
    "\n",
    "2. Analysis of Variations and Errors\n",
    "\n",
    "\t•\tHallucinations and Confusion:\n",
    "\t•\tIn Version 2 (Sushi Bot), the bot exhibited some confusion when it asked for a delivery address after the user explicitly stated that they were dining in. \n",
    "    This indicates a logic gap where the bot didn’t fully adapt to the user’s response.\n",
    "\t•\tThe other versions did not experience significant hallucinations, but all bots can benefit from enhanced handling of user input errors and more natural \n",
    "    language processing for a smoother conversation.\n",
    "\t•\tHandling User Input Variations:\n",
    "\t•\tAcross all versions, the bots handled variations in user input relatively well. \n",
    "    They provided appropriate responses even when the input deviated slightly from expected formats.\n",
    "\t•\tThe conversation flow was mostly maintained, with only minor issues in understanding or miscommunication in specific cases.\n",
    "\n",
    "3. Lessons Learned\n",
    "\n",
    "\t•\tImportance of Robust Error Handling: Effective error handling is crucial, as it directly impacts the user experience. For instance, \n",
    "    the Sushi Bot could improve by better recognizing context (e.g., differentiating between dine-in and delivery scenarios).\n",
    "\t•\tNeed for Context Awareness: The chatbots need to maintain context more effectively to avoid asking irrelevant questions \n",
    "    or making incorrect assumptions based on user input.\n",
    "\t•\tUser-Friendly Experience: Despite minor issues, the bots overall provided a user-friendly experience, \n",
    "    guiding users through complex tasks like holiday bookings and grooming appointments. Customizing the tone and responses to match user expectations \n",
    "    enhanced the interaction.\n",
    "\n",
    "Conclusion\n",
    "\n",
    "Overall, the bots performed well in guiding users through their respective tasks, though there are opportunities to refine their logic and context management. \n",
    "Improving these aspects would make the​ bot more effective and user-friendly."
   ]
  }
 ],
 "metadata": {
  "kernelspec": {
   "display_name": "myproject_env",
   "language": "python",
   "name": "python3"
  },
  "language_info": {
   "codemirror_mode": {
    "name": "ipython",
    "version": 3
   },
   "file_extension": ".py",
   "mimetype": "text/x-python",
   "name": "python",
   "nbconvert_exporter": "python",
   "pygments_lexer": "ipython3",
   "version": "3.9.19"
  }
 },
 "nbformat": 4,
 "nbformat_minor": 5
}
