{
 "cells": [
  {
   "cell_type": "markdown",
   "id": "a9183228-0ba6-4af9-8430-649e28868253",
   "metadata": {
    "id": "JMXGlIvAwn30"
   },
   "source": [
    "# **The Chat Format**\n",
    "\n",
    "In this notebook, you will explore how you can utilize the chat format to have extended conversations with chatbots personalized or specialized for specific tasks or behaviors.\n",
    "\n",
    "## Setup"
   ]
  },
  {
   "cell_type": "code",
   "execution_count": null,
   "id": "7fa0d9b5",
   "metadata": {
    "tags": []
   },
   "outputs": [],
   "source": [
    "from openai import OpenAI\n",
    "\n",
    "import os\n",
    "\n",
    "from dotenv import load_dotenv, find_dotenv\n",
    "\n",
    "_ = load_dotenv(find_dotenv('../../IHAI-lessons/000_lesson_data/044_llm/.env')) # read local .env file\n",
    "\n",
    "OPENAI_API_KEY  = os.getenv('OPENAI_API_KEY')"
   ]
  },
  {
   "cell_type": "code",
   "execution_count": null,
   "id": "f5308d65",
   "metadata": {
    "tags": []
   },
   "outputs": [],
   "source": [
    "client = OpenAI(\n",
    "    # This is the default and can be omitted\n",
    "    api_key=OPENAI_API_KEY,\n",
    ")\n",
    "\n",
    "def get_completion(prompt, model=\"gpt-3.5-turbo\", temperature=0): \n",
    "    messages = [{\"role\": \"user\", \"content\": prompt}]\n",
    "    response = client.chat.completions.create(\n",
    "        model=model,\n",
    "        messages=messages,\n",
    "        temperature=temperature, \n",
    "    )\n",
    "    return response.choices[0].message.content\n",
    "\n",
    "\n",
    "def get_completion_from_messages(messages, model=\"gpt-3.5-turbo\", temperature=0): \n",
    "    response = client.chat.completions.create(\n",
    "        model=model,\n",
    "        messages=messages,\n",
    "        temperature=temperature, \n",
    "    )\n",
    "    return response.choices[0].message.content"
   ]
  },
  {
   "cell_type": "code",
   "execution_count": null,
   "id": "cee681b7",
   "metadata": {
    "tags": []
   },
   "outputs": [],
   "source": [
    "messages =  [  \n",
    "{'role':'system', 'content':'You are an assistant that speaks like Shakespeare.'},    \n",
    "{'role':'user', 'content':'tell me a joke'},   \n",
    "{'role':'assistant', 'content':'Why did the chicken cross the road'},   \n",
    "{'role':'user', 'content':'I don\\'t know'}  ]"
   ]
  },
  {
   "cell_type": "code",
   "execution_count": null,
   "id": "da45ea0f",
   "metadata": {
    "tags": []
   },
   "outputs": [],
   "source": [
    "response = get_completion_from_messages(messages, temperature=1)\n",
    "print(response)"
   ]
  },
  {
   "cell_type": "code",
   "execution_count": null,
   "id": "ca733f8f",
   "metadata": {
    "tags": []
   },
   "outputs": [],
   "source": [
    "messages =  [  \n",
    "{'role':'system', 'content':'You are friendly chatbot.'},    \n",
    "{'role':'user', 'content':'Hi, my name is Isa'}  ]\n",
    "response = get_completion_from_messages(messages, temperature=1)\n",
    "print(response)"
   ]
  },
  {
   "cell_type": "code",
   "execution_count": null,
   "id": "0ae595bc",
   "metadata": {
    "tags": []
   },
   "outputs": [],
   "source": [
    "messages =  [  \n",
    "{'role':'system', 'content':'You are friendly chatbot.'},    \n",
    "{'role':'user', 'content':'Yes,  can you remind me, What is my name?'}  ]\n",
    "response = get_completion_from_messages(messages, temperature=1)\n",
    "print(response)"
   ]
  },
  {
   "cell_type": "code",
   "execution_count": null,
   "id": "56cbb817",
   "metadata": {
    "tags": []
   },
   "outputs": [],
   "source": [
    "messages =  [  \n",
    "{'role':'system', 'content':'You are friendly chatbot.'},\n",
    "{'role':'user', 'content':'Hi, my name is Isa'},\n",
    "{'role':'assistant', 'content': \"Hi Isa! It's nice to meet you. \\\n",
    "Is there anything I can help you with today?\"},\n",
    "{'role':'user', 'content':'Yes, you can remind me, What is my name?'}  ]\n",
    "response = get_completion_from_messages(messages, temperature=1)\n",
    "print(response)"
   ]
  },
  {
   "cell_type": "markdown",
   "id": "dedba66a-58b0-40d4-b9ae-47e79ae22328",
   "metadata": {
    "id": "bBg_MpXeYnTq"
   },
   "source": [
    "# OrderBot\n",
    "We can automate the collection of user prompts and assistant responses to build a  OrderBot. The OrderBot will take orders at a pizza restaurant. "
   ]
  },
  {
   "cell_type": "code",
   "execution_count": null,
   "id": "e76749ac",
   "metadata": {
    "tags": []
   },
   "outputs": [],
   "source": [
    "def collect_messages(_):\n",
    "    # Step 1: Retrieve the user's input from the input field.\n",
    "    prompt = inp.value_input\n",
    "    # Step 2: Clear the input field after retrieving the input.\n",
    "    inp.value = ''\n",
    "    # Step 3: Add the user's message to the 'context' list to track conversation history.\n",
    "    context.append({'role':'user', 'content':f\"{prompt}\"})\n",
    "    # Step 4: Generate a response from the chatbot based on the current conversation context.\n",
    "    response = get_completion_from_messages(context)\n",
    "    # Step 5: Add the bot's response to the conversation history.\n",
    "    context.append({'role':'assistant', 'content':f\"{response}\"})\n",
    "    # Step 6: Display the user's input in a new row on the UI.\n",
    "    panels.append(\n",
    "        pn.Row('User:', pn.pane.Markdown(prompt, width=600)))\n",
    "    # Step 7: Display the bot's response in a new row with a background color.\n",
    "    panels.append(\n",
    "        pn.Row('Assistant:', pn.pane.Markdown(response, width=600, styles={'background-color': '#000000'})))\n",
    "    # Step 8: Return the full conversation as a column (all messages so far).\n",
    "    return pn.Column(*panels)"
   ]
  },
  {
   "cell_type": "code",
   "execution_count": null,
   "id": "474b557c",
   "metadata": {
    "tags": []
   },
   "outputs": [],
   "source": [
    "import panel as pn  # GUI library for creating interactive apps\n",
    "\n",
    "# Initialize the Panel extension (required to run Panel in a notebook)\n",
    "pn.extension()\n",
    "\n",
    "# Initialize an empty list to collect the chat display\n",
    "panels = []  # Stores each user and bot message for displaying the chat history\n",
    "\n",
    "# Initialize the conversation context with a system message\n",
    "context = [ {'role':'system', 'content':\"\"\"\n",
    "You are OrderBot, an automated service to collect orders for a pizza restaurant. \\\n",
    "You first greet the customer, then collects the order, \\\n",
    "and then asks if it's a pickup or delivery. \\\n",
    "You wait to collect the entire order, then summarize it and check for a final \\\n",
    "time if the customer wants to add anything else. \\\n",
    "If it's a delivery, you ask for an address. \\\n",
    "Finally you collect the payment.\\\n",
    "Make sure to clarify all options, extras and sizes to uniquely \\\n",
    "identify the item from the menu.\\\n",
    "You respond in a short, very conversational friendly style. \\\n",
    "The menu includes \\\n",
    "pepperoni pizza  12.95, 10.00, 7.00 \\\n",
    "cheese pizza   10.95, 9.25, 6.50 \\\n",
    "eggplant pizza   11.95, 9.75, 6.75 \\\n",
    "fries 4.50, 3.50 \\\n",
    "greek salad 7.25 \\\n",
    "Toppings: \\\n",
    "extra cheese 2.00, \\\n",
    "mushrooms 1.50 \\\n",
    "sausage 3.00 \\\n",
    "canadian bacon 3.50 \\\n",
    "AI sauce 1.50 \\\n",
    "peppers 1.00 \\\n",
    "Drinks: \\\n",
    "coke 3.00, 2.00, 1.00 \\\n",
    "sprite 3.00, 2.00, 1.00 \\\n",
    "bottled water 5.00 \\\n",
    "\"\"\"} ]  # Context list initialized with the \"system\" message,\n",
    "# which sets up the bot's role and purpose.\n",
    "\n",
    "# Step 1: Define the user input field\n",
    "inp = pn.widgets.TextInput(value=\"Hi\", placeholder='Enter text here…')\n",
    "# `inp` is a text input field where users can type their messages. \n",
    "# `value=\"Hi\"` sets a default initial message, which can be changed.\n",
    "# `placeholder` provides a hint inside the input box when it's empty.\n",
    "\n",
    "# Step 2: Create a button to submit the user's message\n",
    "button_conversation = pn.widgets.Button(name=\"Chat!\")\n",
    "# `button_conversation` is a button with the label \"Chat!\" that the user clicks to submit their message.\n",
    "# When clicked, it will trigger the chatbot to respond.\n",
    "\n",
    "# Step 3: Bind the button to the chat function\n",
    "interactive_conversation = pn.bind(collect_messages, button_conversation)\n",
    "# `pn.bind` links the `collect_messages` function to `button_conversation`.\n",
    "# This means every time the button is clicked, `collect_messages` runs, taking the latest input.\n",
    "\n",
    "# Step 4: Define the dashboard layout\n",
    "dashboard = pn.Column(\n",
    "    inp,                                   # Add the input field to the dashboard\n",
    "    pn.Row(button_conversation),           # Add the button in a row for visual layout\n",
    "    pn.panel(interactive_conversation, loading_indicator=True, height=300),\n",
    "    # Display `interactive_conversation` (the function bound to the button click).\n",
    "    # `loading_indicator=True` shows a loading icon while the function is processing.\n",
    "    # `height=300` sets the height for this section of the dashboard.\n",
    ")\n",
    "\n",
    "# Display the dashboard interface\n",
    "dashboard\n",
    "# dashboard.show()  # to run it on localhost in the browser"
   ]
  },
  {
   "cell_type": "code",
   "execution_count": null,
   "id": "a0ee11b9",
   "metadata": {},
   "outputs": [],
   "source": [
    "messages =  context.copy()\n",
    "messages.append(\n",
    "{'role':'system', 'content':'create a json summary of the previous food order. Itemize the price for each item\\\n",
    " The fields should be 1) pizza, include size 2) list of toppings 3) list of drinks, include size   4) list of sides include size  5)total price '},    \n",
    ")\n",
    " #The fields should be 1) pizza, price 2) list of toppings 3) list of drinks, include size include price  4) list of sides include size include price, 5)total price '},    \n",
    "\n",
    "response = get_completion_from_messages(messages, temperature=0)\n",
    "print(response)"
   ]
  },
  {
   "cell_type": "markdown",
   "id": "3153c581-1c72-497a-9293-8db3bcb804fc",
   "metadata": {},
   "source": [
    "## Try experimenting on your own!\n",
    "\n",
    "You can modify the menu or instructions to create your own orderbot!"
   ]
  },
  {
   "cell_type": "markdown",
   "id": "7420ff21-68da-49ae-955f-49e8bffa769c",
   "metadata": {},
   "source": [
    "# Exercise\n",
    " - Complete the prompts similar to what we did in class. \n",
    "     - Try at least 3 versions\n",
    "     - Be creative"
   ]
  },
  {
   "cell_type": "code",
   "execution_count": null,
   "id": "7aff0ebf-dda8-4b18-a704-393243a0a205",
   "metadata": {},
   "outputs": [],
   "source": [
    "# VERSION 1\n",
    "# ENCHANTMENTS\n",
    "\n",
    "import panel as pn\n",
    "\n",
    "pn.extension()\n",
    "\n",
    "panels = []\n",
    "\n",
    "context = [\n",
    "    {'role':'system', 'content':\"\"\"\n",
    "    You are the Enchanted OrderBot, an automated service to collect orders for a magical potion shop.\n",
    "    Begin by greeting the customer, then ask what potions, herbs, or enchanted items they would like.\n",
    "    When the order is complete, check if they want anything else and ask if it’s for pickup or mystical delivery.\n",
    "    If it’s a delivery, ask for their mystical location (e.g., \"under the willow tree by the dark lake\").\n",
    "    Then summarize the order and confirm any special instructions before finalizing payment.\n",
    "    Be sure to clarify potion sizes, effects, and any additional charms.\n",
    "    Respond in a mystical, charming tone. The menu includes:\n",
    "    - Potions: Healing Potion (large 15.00, medium 10.00, small 5.00),\n",
    "      Invisibility Potion (20.00), Strength Elixir (large 12.00, small 6.00)\n",
    "    - Enchanted Herbs: Dragonleaf (10.00 per bundle), Feyroot (8.00 per bundle), Witch’s Basil (5.00)\n",
    "    - Charms and Crystals: Protection Charm (12.00), Fire Crystal (18.00), Water Crystal (15.00)\n",
    "    Additional magical add-ons: Fairy Dust (+3.00), Moonlight Essence (+5.00), Wolfsbane (+2.00)\n",
    "    \"\"\",}\n",
    "]\n",
    "\n",
    "inp = pn.widgets.TextInput(value = 'Greetings, wise Enchanter!', placeholder = 'Enter your request here…')\n",
    "\n",
    "button_conversation = pn.widgets.Button(name = 'Chat!')\n",
    "\n",
    "interactive_conversation = pn.bind(collect_messages, button_conversation)\n",
    "\n",
    "dashboard = pn.Column(inp,\n",
    "            pn.Row(button_conversation),\n",
    "            pn.panel(interactive_conversation, loading_indicator = True, height = 300))\n",
    "\n",
    "dashboard"
   ]
  },
  {
   "cell_type": "code",
   "execution_count": null,
   "id": "479303b8",
   "metadata": {},
   "outputs": [],
   "source": [
    "# VERSION 2\n",
    "# PET-SUPPLIES\n",
    "\n",
    "import panel as pn\n",
    "\n",
    "pn.extension()\n",
    "\n",
    "panels = []\n",
    "\n",
    "context = [\n",
    "    {'role':'system', 'content':\"\"\"\n",
    "    You are the Pet Supplies OrderBot, an automated service to help customers order pet products.\n",
    "    Start by greeting the customer, then ask about the type of pet they’re shopping for and what items they’re looking to purchase.\n",
    "    Guide them through available categories such as food, toys, bedding, and accessories.\n",
    "    For each item, confirm the type, size, and any specific preferences or dietary needs. If they’re done ordering, \n",
    "    ask if they need delivery or will pick it up in-store. For delivery, request their address.\n",
    "    Finally, summarize the order and ask if there are any additional instructions before confirming payment.\n",
    "    The store menu includes:\n",
    "    - Food: Dog Food (large bag 20.00, medium 15.00, small 10.00), Cat Food (canned 2.00, dry 10.00), Bird Seed (5.00 per bag)\n",
    "    - Toys: Chew Toy (5.00), Squeak Toy (3.00), Feather Wand (4.00)\n",
    "    - Bedding: Dog Bed (25.00), Cat Bed (20.00), Hamster Bedding (5.00 per pack)\n",
    "    - Accessories: Collar (8.00), Leash (10.00), Water Bowl (3.00)\n",
    "    Additional options: Gift Wrapping (+3.00), Expedited Shipping (+5.00)\n",
    "    \"\"\",}\n",
    "]\n",
    "\n",
    "inp = pn.widgets.TextInput(value = 'Greetings, wise Enchanter!', placeholder = 'Enter your request here…')\n",
    "\n",
    "button_conversation = pn.widgets.Button(name = 'Chat!')\n",
    "\n",
    "interactive_conversation = pn.bind(collect_messages, button_conversation)\n",
    "\n",
    "dashboard = pn.Column(inp,\n",
    "            pn.Row(button_conversation),\n",
    "            pn.panel(interactive_conversation, loading_indicator = True, height = 300))\n",
    "\n",
    "dashboard"
   ]
  },
  {
   "cell_type": "code",
   "execution_count": null,
   "id": "b788b8a3",
   "metadata": {},
   "outputs": [],
   "source": [
    "# VERSION 3\n",
    "# OFFICE SUPPLIES\n",
    "\n",
    "import panel as pn\n",
    "\n",
    "pn.extension()\n",
    "\n",
    "panels = []\n",
    "\n",
    "context = [\n",
    "    {'role':'system', 'content':\"\"\"\n",
    "    You are the Office Supplies OrderBot, here to assist customers in purchasing office products for their business needs.\n",
    "    Begin by greeting the customer and asking what type of office supplies they need today.\n",
    "    Guide them through categories like stationery, technology, furniture, and cleaning supplies.\n",
    "    For each item, confirm details like quantity, color preference, and any special requests. \n",
    "    When the customer finishes, ask if they need it delivered or if they’ll pick it up from the store. \n",
    "    For delivery, gather the office address.\n",
    "    Finally, recap the order to ensure everything is correct, check for any additional instructions, and finalize the payment process.\n",
    "    The catalog includes:\n",
    "    - Stationery: Pens (1.00 each), Notebooks (3.00 each), Sticky Notes (1.50 per pack)\n",
    "    - Technology: USB Drive (10.00), Mouse (15.00), Keyboard (20.00)\n",
    "    - Furniture: Office Chair (50.00), Desk (100.00), Filing Cabinet (80.00)\n",
    "    - Cleaning Supplies: Hand Sanitizer (5.00), Paper Towels (3.00 per roll), Disinfectant Wipes (4.00 per pack)\n",
    "    Additional options: Gift Wrapping (+3.00), Next-Day Delivery (+10.00)\n",
    "    \"\"\",}\n",
    "]\n",
    "\n",
    "inp = pn.widgets.TextInput(value = 'Greetings, wise Enchanter!', placeholder = 'Enter your request here…')\n",
    "\n",
    "button_conversation = pn.widgets.Button(name = 'Chat!')\n",
    "\n",
    "interactive_conversation = pn.bind(collect_messages, button_conversation)\n",
    "\n",
    "dashboard = pn.Column(inp,\n",
    "            pn.Row(button_conversation),\n",
    "            pn.panel(interactive_conversation, loading_indicator = True, height = 300))\n",
    "\n",
    "dashboard"
   ]
  },
  {
   "cell_type": "markdown",
   "id": "6dc2446b",
   "metadata": {},
   "source": [
    " - Write a report summarizing your findings.\n",
    "     - Were there variations that didn't work well? i.e., where GPT either hallucinated or wrong\n",
    " - What did you learn?"
   ]
  },
  {
   "cell_type": "code",
   "execution_count": null,
   "id": "1fc3a3c6",
   "metadata": {},
   "outputs": [],
   "source": [
    "# REPORT AND FINDINGS\n",
    "\n",
    "# During testing, I noticed that when the bot receives too much detail or too many options,\n",
    "# it can sometimes get confused and even start making things up.\n",
    "\n",
    "# This became especially obvious when I added unrealistic items - it would go off script,\n",
    "# and create new items that didn’t fit with the rest of the menu structure,\n",
    "# making the output feel less reliable.\n",
    "\n",
    "# I also found that skipping step-by-step guidance didn’t help either.\n",
    "# The bot would miss important parts of the order, which affected accuracy.\n",
    "\n",
    "# Overall, giving the bot a clearer focus seems necessary to avoid these issues,\n",
    "# and maintain a consistent flow in responses."
   ]
  }
 ],
 "metadata": {
  "kernelspec": {
   "display_name": "Python 3",
   "language": "python",
   "name": "python3"
  },
  "language_info": {
   "codemirror_mode": {
    "name": "ipython",
    "version": 3
   },
   "file_extension": ".py",
   "mimetype": "text/x-python",
   "name": "python",
   "nbconvert_exporter": "python",
   "pygments_lexer": "ipython3",
   "version": "3.11.10"
  }
 },
 "nbformat": 4,
 "nbformat_minor": 5
}
